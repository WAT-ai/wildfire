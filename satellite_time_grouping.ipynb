{
 "cells": [
  {
   "cell_type": "code",
   "execution_count": 5,
   "metadata": {},
   "outputs": [],
   "source": [
    "import pandas as pd\n",
    "import os\n",
    "from datetime import datetime\n",
    "from pathlib import Path\n",
    "import numpy as np\n",
    "import csv"
   ]
  },
  {
   "cell_type": "code",
   "execution_count": 15,
   "metadata": {},
   "outputs": [],
   "source": [
    "all_weeks = []\n",
    "\n",
    "def get_all_satellite_data():\n",
    "    base_path = 'data/final-satellite-burn'\n",
    "    for year_num in range(2017, 2024):\n",
    "        year_path = os.path.join(base_path, str(year_num))\n",
    "        if not os.path.exists(year_path):\n",
    "            print(f\"Path {year_path} does not exist\")\n",
    "            continue\n",
    "\n",
    "        for week_num in range(1, 53):\n",
    "            week_path = os.path.join(year_path, f'week_{week_num}.csv')\n",
    "            if not os.path.exists(week_path):\n",
    "                print(f\"Path {week_path} does not exist\")\n",
    "                continue\n",
    "\n",
    "            # Read the CSV file and extract the numbers\n",
    "            with open(week_path, 'r') as file:\n",
    "                # Assuming the numbers are in the first column of the CSV file\n",
    "                numbers_list = [float(row[0]) for row in csv.reader(file)]\n",
    "\n",
    "            # Convert the list of numbers to a numpy array\n",
    "            numbers_array = np.array(numbers_list)\n",
    "\n",
    "            all_weeks.append(numbers_array)"
   ]
  },
  {
   "cell_type": "code",
   "execution_count": 16,
   "metadata": {},
   "outputs": [
    {
     "name": "stdout",
     "output_type": "stream",
     "text": [
      "364\n"
     ]
    }
   ],
   "source": [
    "get_all_satellite_data()\n",
    "print(len(all_weeks))"
   ]
  },
  {
   "cell_type": "code",
   "execution_count": 17,
   "metadata": {},
   "outputs": [
    {
     "data": {
      "text/plain": [
       "array([0., 0., 0., 0., 0., 0., 0., 0., 0., 0., 0., 0., 0., 0., 0., 0., 0.,\n",
       "       0., 0., 0., 0., 0., 0., 0., 0., 0., 0., 0., 0., 0., 0., 0., 0., 0.,\n",
       "       0., 0.])"
      ]
     },
     "execution_count": 17,
     "metadata": {},
     "output_type": "execute_result"
    }
   ],
   "source": [
    "all_weeks[0]"
   ]
  },
  {
   "cell_type": "code",
   "execution_count": 19,
   "metadata": {},
   "outputs": [],
   "source": [
    "# group by quarters\n",
    "quarterly_data = []\n",
    "\n",
    "curr = all_weeks[0]\n",
    "count = 1\n",
    "for i in range(1, len(all_weeks)):\n",
    "    curr = curr + all_weeks[i]\n",
    "    count += 1\n",
    "\n",
    "    if count % 13 == 0:\n",
    "        quarterly_data.append(curr)"
   ]
  },
  {
   "cell_type": "code",
   "execution_count": 25,
   "metadata": {},
   "outputs": [
    {
     "name": "stdout",
     "output_type": "stream",
     "text": [
      "28\n"
     ]
    }
   ],
   "source": [
    "print(len(quarterly_data))"
   ]
  },
  {
   "cell_type": "code",
   "execution_count": 24,
   "metadata": {},
   "outputs": [],
   "source": [
    "for i in range(len(quarterly_data)):\n",
    "    data = quarterly_data[i]\n",
    "    file_path = f'data/final-satellite-burn/quarterly/group_{i + 1}.csv'\n",
    "    np.savetxt(file_path, data, delimiter='\\n', fmt='%.2f')"
   ]
  },
  {
   "cell_type": "code",
   "execution_count": null,
   "metadata": {},
   "outputs": [],
   "source": []
  }
 ],
 "metadata": {
  "kernelspec": {
   "display_name": "Python 3",
   "language": "python",
   "name": "python3"
  },
  "language_info": {
   "codemirror_mode": {
    "name": "ipython",
    "version": 3
   },
   "file_extension": ".py",
   "mimetype": "text/x-python",
   "name": "python",
   "nbconvert_exporter": "python",
   "pygments_lexer": "ipython3",
   "version": "3.10.8"
  }
 },
 "nbformat": 4,
 "nbformat_minor": 2
}
