{
 "cells": [
  {
   "cell_type": "code",
   "execution_count": 1,
   "id": "c3e8effe",
   "metadata": {},
   "outputs": [],
   "source": [
    "import pandas as pd\n",
    "import os"
   ]
  },
  {
   "cell_type": "code",
   "execution_count": 8,
   "id": "6e08fb95",
   "metadata": {},
   "outputs": [],
   "source": [
    "for curr_year in range(2017,2023):\n",
    "\n",
    "    base_dir = \"./data/weather-stations/kelowna/\"\n",
    "\n",
    "    for i in range(1,145):\n",
    "        filtered_df = pd.read_csv(base_dir + f\"fine_area_{i}_stations.csv\")\n",
    "        my_filter = ['ONE_DAY_PRECIPITATION', 'ONE_DAY_RAIN', 'MIN_TEMP', 'ONE_DAY_SNOW', 'time', 'MAX_TEMP']\n",
    "\n",
    "        curr_year = 2022\n",
    "\n",
    "        for week in range(1,54):\n",
    "            weekly_dataframes = []\n",
    "            for index, row in filtered_df.iterrows():\n",
    "                network_name = row['Network Name']\n",
    "                native_id = row['Native ID']\n",
    "\n",
    "                file_path = f'./data/weather/{curr_year}/week_{week}/{network_name}/{native_id}.csv'\n",
    "\n",
    "                if os.path.exists(file_path):\n",
    "                    temp_df = pd.read_csv(file_path)\n",
    "                    weekly_dataframes.append(temp_df)\n",
    "            if weekly_dataframes:\n",
    "                combined_df = pd.concat(weekly_dataframes, ignore_index=True, axis=0, join='outer')\n",
    "                combined_df.fillna(-999, inplace = True)\n",
    "                if not os.path.exists(f'./data/final-weather/{curr_year}/{week}'):\n",
    "                    os.makedirs(f'./data/final-weather/{curr_year}/{week}')\n",
    "                combined_csv_path = f'./data/final-weather/{curr_year}/{week}/fine_area_{i}_weather.csv'\n",
    "                combined_df.to_csv(combined_csv_path, index=False, header=True)"
   ]
  },
  {
   "cell_type": "code",
   "execution_count": null,
   "id": "dc600b16",
   "metadata": {},
   "outputs": [],
   "source": []
  }
 ],
 "metadata": {
  "kernelspec": {
   "display_name": "Python 3 (ipykernel)",
   "language": "python",
   "name": "python3"
  },
  "language_info": {
   "codemirror_mode": {
    "name": "ipython",
    "version": 3
   },
   "file_extension": ".py",
   "mimetype": "text/x-python",
   "name": "python",
   "nbconvert_exporter": "python",
   "pygments_lexer": "ipython3",
   "version": "3.9.13"
  }
 },
 "nbformat": 4,
 "nbformat_minor": 5
}
