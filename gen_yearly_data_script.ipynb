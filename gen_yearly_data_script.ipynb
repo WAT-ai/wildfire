{
 "cells": [
  {
   "cell_type": "code",
   "execution_count": null,
   "id": "d9396398",
   "metadata": {},
   "outputs": [],
   "source": []
  },
  {
   "cell_type": "code",
   "execution_count": 1,
   "id": "ddf60882",
   "metadata": {},
   "outputs": [
    {
     "ename": "NameError",
     "evalue": "name 'filtered_df' is not defined",
     "output_type": "error",
     "traceback": [
      "\u001b[0;31m---------------------------------------------------------------------------\u001b[0m",
      "\u001b[0;31mNameError\u001b[0m                                 Traceback (most recent call last)",
      "\u001b[1;32m/Users/rchang/WAT-ai/wildfire/gen_yearly_data_script.ipynb Cell 1\u001b[0m line \u001b[0;36m6\n\u001b[1;32m      <a href='vscode-notebook-cell:/Users/rchang/WAT-ai/wildfire/gen_yearly_data_script.ipynb#W0sZmlsZQ%3D%3D?line=2'>3</a>\u001b[0m \u001b[39mfor\u001b[39;00m curr_year \u001b[39min\u001b[39;00m \u001b[39mrange\u001b[39m(\u001b[39m2012\u001b[39m, \u001b[39m2024\u001b[39m):\n\u001b[1;32m      <a href='vscode-notebook-cell:/Users/rchang/WAT-ai/wildfire/gen_yearly_data_script.ipynb#W0sZmlsZQ%3D%3D?line=3'>4</a>\u001b[0m     yearly_dataframes \u001b[39m=\u001b[39m []\n\u001b[0;32m----> <a href='vscode-notebook-cell:/Users/rchang/WAT-ai/wildfire/gen_yearly_data_script.ipynb#W0sZmlsZQ%3D%3D?line=5'>6</a>\u001b[0m     \u001b[39mfor\u001b[39;00m index, row \u001b[39min\u001b[39;00m filtered_df\u001b[39m.\u001b[39miterrows():\n\u001b[1;32m      <a href='vscode-notebook-cell:/Users/rchang/WAT-ai/wildfire/gen_yearly_data_script.ipynb#W0sZmlsZQ%3D%3D?line=6'>7</a>\u001b[0m         network_name \u001b[39m=\u001b[39m row[\u001b[39m'\u001b[39m\u001b[39mNetwork Name\u001b[39m\u001b[39m'\u001b[39m]\n\u001b[1;32m      <a href='vscode-notebook-cell:/Users/rchang/WAT-ai/wildfire/gen_yearly_data_script.ipynb#W0sZmlsZQ%3D%3D?line=7'>8</a>\u001b[0m         native_id \u001b[39m=\u001b[39m row[\u001b[39m'\u001b[39m\u001b[39mNative ID\u001b[39m\u001b[39m'\u001b[39m]\n",
      "\u001b[0;31mNameError\u001b[0m: name 'filtered_df' is not defined"
     ]
    }
   ],
   "source": [
    "my_filter = ['ONE_DAY_PRECIPITATION', 'ONE_DAY_RAIN', 'MIN_TEMP', 'ONE_DAY_SNOW', 'time', 'MAX_TEMP']\n",
    "\n",
    "for curr_year in range(2012, 2024):\n",
    "    yearly_dataframes = []\n",
    "\n",
    "    for index, row in filtered_df.iterrows():\n",
    "        network_name = row['Network Name']\n",
    "        native_id = row['Native ID']\n",
    "        \n",
    "        file_path = f'./data/weather/{curr_year}/{network_name}/{native_id}.csv'\n",
    "\n",
    "        if os.path.exists(file_path):\n",
    "            temp_df = pd.read_csv(file_path, skiprows=1)\n",
    "            \n",
    "            yearly_dataframes.append(temp_df)\n",
    "\n",
    "    if yearly_dataframes:\n",
    "        combined_df = pd.concat(yearly_dataframes, ignore_index=True)\n",
    "        combined_df.columns = [i.lstrip() for i in combined_df.columns]\n",
    "        existing_columns = [c for c in my_filter if c in combined_df.columns]\n",
    "        combined_df = combined_df[existing_columns]\n",
    "#         print(combined_df.columns)\n",
    "        combined_csv_path = f'combined_data_{curr_year}.csv'\n",
    "        combined_df.to_csv(combined_csv_path, index=False)"
   ]
  }
 ],
 "metadata": {
  "kernelspec": {
   "display_name": "Python 3 (ipykernel)",
   "language": "python",
   "name": "python3"
  },
  "language_info": {
   "codemirror_mode": {
    "name": "ipython",
    "version": 3
   },
   "file_extension": ".py",
   "mimetype": "text/x-python",
   "name": "python",
   "nbconvert_exporter": "python",
   "pygments_lexer": "ipython3",
   "version": "3.10.8"
  }
 },
 "nbformat": 4,
 "nbformat_minor": 5
}
