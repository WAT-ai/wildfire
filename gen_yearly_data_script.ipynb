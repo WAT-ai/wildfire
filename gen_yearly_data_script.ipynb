{
 "cells": [
  {
   "cell_type": "code",
   "execution_count": null,
   "id": "ddf60882",
   "metadata": {},
   "outputs": [],
   "source": [
    "my_filter = ['ONE_DAY_PRECIPITATION', 'ONE_DAY_RAIN', 'MIN_TEMP', 'ONE_DAY_SNOW', 'time', 'MAX_TEMP']\n",
    "\n",
    "for curr_year in range(2012, 2024):\n",
    "    yearly_dataframes = []\n",
    "\n",
    "    for index, row in filtered_df.iterrows():\n",
    "        network_name = row['Network Name']\n",
    "        native_id = row['Native ID']\n",
    "        \n",
    "        file_path = f'./data/weather/{curr_year}/{network_name}/{native_id}.csv'\n",
    "\n",
    "        if os.path.exists(file_path):\n",
    "            temp_df = pd.read_csv(file_path, skiprows=1)\n",
    "            \n",
    "            yearly_dataframes.append(temp_df)\n",
    "\n",
    "    if yearly_dataframes:\n",
    "        combined_df = pd.concat(yearly_dataframes, ignore_index=True)\n",
    "        combined_df.columns = [i.lstrip() for i in combined_df.columns]\n",
    "        existing_columns = [c for c in my_filter if c in combined_df.columns]\n",
    "        combined_df = combined_df[existing_columns]\n",
    "#         print(combined_df.columns)\n",
    "        combined_csv_path = f'combined_data_{curr_year}.csv'\n",
    "        combined_df.to_csv(combined_csv_path, index=False)"
   ]
  }
 ],
 "metadata": {
  "kernelspec": {
   "display_name": "Python 3 (ipykernel)",
   "language": "python",
   "name": "python3"
  },
  "language_info": {
   "codemirror_mode": {
    "name": "ipython",
    "version": 3
   },
   "file_extension": ".py",
   "mimetype": "text/x-python",
   "name": "python",
   "nbconvert_exporter": "python",
   "pygments_lexer": "ipython3",
   "version": "3.9.13"
  }
 },
 "nbformat": 4,
 "nbformat_minor": 5
}
