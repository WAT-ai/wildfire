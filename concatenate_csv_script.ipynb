{
 "cells": [
  {
   "cell_type": "code",
   "execution_count": null,
   "metadata": {},
   "outputs": [],
   "source": [
    "import pandas as pd"
   ]
  },
  {
   "cell_type": "code",
   "execution_count": null,
   "metadata": {},
   "outputs": [],
   "source": [
    "# Load data from csv file\n",
    "filtered_station_df = pd.read_csv('filtered-station-metadata.csv')\n",
    "# Load misc data\n",
    "networks = {\n",
    "    'BCH': 'BCH',\n",
    "    'EC': 'EC',\n",
    "    'EC_raw': 'EC_raw',\n",
    "    'ENV-APS': 'ENV-APS',\n",
    "    'MoTlm': 'MoTlm',\n",
    "    'RT': 'RT'\n",
    "}\n",
    "\n",
    "data = [\n",
    "    'MIN_TEMP',\n",
    "    'SNOW_ON_THE_GROUND',\n",
    "    'ONE_DAY_SNOW',\n",
    "    'ONE_DAY_PRECIPITATION',\n",
    "    'MAX_TEMP',\n",
    "    'ONE_DAY_RAIN',\n",
    "    'Temp',\n",
    "    'SWE',\n",
    "    'air_temp_1',\n",
    "    'air_temp_2',\n",
    "    'snw_dpth_wtr_equiv',\n",
    "    'snw_dpth',\n",
    "    'cum_pcpn_amt',\n",
    "    'pcpn_amt_pst1hr',\n",
    "    'pcpn_amt_pst24hrs',\n",
    "    'SNOW_we',\n",
    "    'AIR_TEMP',\n",
    "    'time'\n",
    "]"
   ]
  },
  {
   "cell_type": "code",
   "execution_count": null,
   "metadata": {},
   "outputs": [],
   "source": [
    "# Go through each year and find all the data pertaining to these stations and concatenate to a new CSV\n",
    "for year in range(2012, 2024):\n",
    "    year_df = pd.DataFrame(columns=data)\n",
    "    print(year_df)\n",
    "    for network in networks:\n",
    "        print(f'Loading {network} data for {year}')\n",
    "        for index, row in filtered_station_df.iterrows():\n",
    "            if row['Network Name'] != network:\n",
    "                continue\n",
    "            name = row['Station Name']\n",
    "            id = row['Native ID']\n",
    "            url = f'./data/weather/{year}/{network}/{id}.csv'\n",
    "            print(f'Loading {url}')\n",
    "            try:\n",
    "                year_df = pd.concat([year_df, pd.read_csv(url, skiprows=1)], ignore_index=True)\n",
    "            except Exception as e:\n",
    "                print(f'Error loading {url}: {e}')\n",
    "            \n",
    "    year_df.to_csv(f'{year}-coordinate-filtered-weather-data.csv', index=False)\n",
    "           \n",
    "    "
   ]
  },
  {
   "cell_type": "code",
   "execution_count": null,
   "metadata": {},
   "outputs": [],
   "source": []
  }
 ],
 "metadata": {
  "kernelspec": {
   "display_name": "wildfire",
   "language": "python",
   "name": "python3"
  },
  "language_info": {
   "codemirror_mode": {
    "name": "ipython",
    "version": 3
   },
   "file_extension": ".py",
   "mimetype": "text/x-python",
   "name": "python",
   "nbconvert_exporter": "python",
   "pygments_lexer": "ipython3",
   "version": "3.11.7"
  }
 },
 "nbformat": 4,
 "nbformat_minor": 2
}
