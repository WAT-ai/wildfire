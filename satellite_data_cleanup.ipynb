{
 "cells": [
  {
   "cell_type": "code",
   "execution_count": 3,
   "metadata": {},
   "outputs": [
    {
     "name": "stdout",
     "output_type": "stream",
     "text": [
      "Cleaned file saved to: C:\\Users\\aniru\\Downloads\\satellite_burn_cleaned.csv\n"
     ]
    }
   ],
   "source": [
    "import pandas as pd\n",
    "import re\n",
    "\n",
    "def extract_year_if_date(value):\n",
    "    \"\"\"\n",
    "    Extracts and returns the year from a date string, if the value is in the format YYYY/MM/DD.\n",
    "    Returns the original value if it's numeric, or None if it's non-numeric and not a date.\n",
    "    \"\"\"\n",
    "    if isinstance(value, str):\n",
    "        # Check if the value is a date in the format YYYY/MM/DD\n",
    "        if re.match(r'\\d{4}/\\d{2}/\\d{2}', value):\n",
    "            # Extract and return the year\n",
    "            return int(value.split('/')[0])\n",
    "        # Check if the value is non-numeric\n",
    "        elif not value.replace('.', '', 1).isdigit():\n",
    "            return None\n",
    "    return value\n",
    "\n",
    "def process_csv(file_path):\n",
    "    \"\"\"\n",
    "    Processes the CSV file: extracts year from dates in \"LATITUDE\",\n",
    "    and removes rows with non-numeric \"LATITUDE\" or \"LONGITUDE\".\n",
    "    \"\"\"\n",
    "    try:\n",
    "        # Load the CSV file\n",
    "        data = pd.read_csv(file_path)\n",
    "\n",
    "        # Process the LATITUDE and LONGITUDE columns\n",
    "        data['LATITUDE'] = data['LATITUDE'].apply(extract_year_if_date)\n",
    "        data['LONGITUDE'] = data['LONGITUDE'].apply(extract_year_if_date)\n",
    "\n",
    "        # Drop rows with None in either LATITUDE or LONGITUDE\n",
    "        data.dropna(subset=['LATITUDE', 'LONGITUDE'], inplace=True)\n",
    "\n",
    "        # Save the cleaned data to a new CSV file\n",
    "        cleaned_file_path = file_path.replace('.csv', '_cleaned.csv')\n",
    "        data.to_csv(cleaned_file_path, index=False)\n",
    "        print(f\"Cleaned file saved to: {cleaned_file_path}\")\n",
    "\n",
    "    except Exception as e:\n",
    "        print(f\"An error occurred: {e}\")\n",
    "\n",
    "# Replace with your file path\n",
    "file_path = \"C:\\\\Users\\\\aniru\\\\Downloads\\\\satellite_burn.csv\"\n",
    "process_csv(file_path)\n"
   ]
  }
 ],
 "metadata": {
  "kernelspec": {
   "display_name": "Python 3",
   "language": "python",
   "name": "python3"
  },
  "language_info": {
   "codemirror_mode": {
    "name": "ipython",
    "version": 3
   },
   "file_extension": ".py",
   "mimetype": "text/x-python",
   "name": "python",
   "nbconvert_exporter": "python",
   "pygments_lexer": "ipython3",
   "version": "3.9.13"
  }
 },
 "nbformat": 4,
 "nbformat_minor": 2
}
