{
 "cells": [
  {
   "cell_type": "code",
   "execution_count": 4,
   "metadata": {},
   "outputs": [
    {
     "name": "stdout",
     "output_type": "stream",
     "text": [
      "Collecting xgboost\n",
      "  Using cached xgboost-2.0.3-py3-none-macosx_12_0_arm64.whl (1.9 MB)\n",
      "Requirement already satisfied: numpy in /opt/homebrew/lib/python3.10/site-packages (from xgboost) (1.25.2)\n",
      "Requirement already satisfied: scipy in /opt/homebrew/lib/python3.10/site-packages (from xgboost) (1.11.1)\n",
      "Installing collected packages: xgboost\n",
      "Successfully installed xgboost-2.0.3\n",
      "\n",
      "\u001b[1m[\u001b[0m\u001b[34;49mnotice\u001b[0m\u001b[1;39;49m]\u001b[0m\u001b[39;49m A new release of pip available: \u001b[0m\u001b[31;49m22.2.2\u001b[0m\u001b[39;49m -> \u001b[0m\u001b[32;49m23.3.2\u001b[0m\n",
      "\u001b[1m[\u001b[0m\u001b[34;49mnotice\u001b[0m\u001b[1;39;49m]\u001b[0m\u001b[39;49m To update, run: \u001b[0m\u001b[32;49mpython3.10 -m pip install --upgrade pip\u001b[0m\n",
      "Note: you may need to restart the kernel to use updated packages.\n"
     ]
    }
   ],
   "source": [
    "%pip install xgboost"
   ]
  },
  {
   "cell_type": "code",
   "execution_count": 69,
   "metadata": {},
   "outputs": [],
   "source": [
    "import pandas as pd\n",
    "\n",
    "df = pd.read_csv(\"/Users/rchang/WAT-ai/wildfire/2016_weather.csv\")\n",
    "df.drop(columns=[\"time\", \"WindDirection\"], inplace=True)\n",
    "df.to_csv(\"2016_weather_filtered.csv\", index=False)"
   ]
  },
  {
   "cell_type": "code",
   "execution_count": 64,
   "metadata": {},
   "outputs": [
    {
     "data": {
      "text/plain": [
       "array([[-20.026,   0.6  ,  89.4  , ...,   0.   ,   0.   , -21.3  ],\n",
       "       [-20.931,   0.6  ,  88.9  , ...,   0.   ,   0.   , -22.3  ],\n",
       "       [-21.125,   0.6  ,  88.8  , ...,   0.   ,   0.   , -22.5  ],\n",
       "       ...,\n",
       "       [ -5.791,   0.6  ,  96.6  , ...,   0.   ,   0.   ,  -6.3  ],\n",
       "       [ -5.667,   0.6  ,  96.8  , ...,   0.   ,   0.   ,  -6.1  ],\n",
       "       [ -5.574,   0.6  ,  96.9  , ...,   0.   ,   0.   ,  -6.   ]])"
      ]
     },
     "execution_count": 64,
     "metadata": {},
     "output_type": "execute_result"
    }
   ],
   "source": [
    "x = pd.read_csv(\"2016_weather_filtered.csv\")\n",
    "x = x.values\n",
    "x"
   ]
  },
  {
   "cell_type": "code",
   "execution_count": 65,
   "metadata": {},
   "outputs": [],
   "source": [
    "df = pd.read_csv(\"/Users/rchang/WAT-ai/wildfire/2017_burn.csv\")\n",
    "df.drop(columns=[\"IGNITION_DATE\",\"LATITUDE\",\"LONGITUDE\"], inplace=True)\n",
    "df.to_csv(\"2017_burn_filtered.csv\", index=False)"
   ]
  },
  {
   "cell_type": "code",
   "execution_count": 66,
   "metadata": {},
   "outputs": [
    {
     "data": {
      "text/plain": [
       "array([[1.000e-01],\n",
       "       [0.000e+00],\n",
       "       [0.000e+00],\n",
       "       [9.000e-03],\n",
       "       [9.000e-03],\n",
       "       [9.000e-03],\n",
       "       [0.000e+00],\n",
       "       [9.000e-03],\n",
       "       [2.000e-02],\n",
       "       [0.000e+00],\n",
       "       [2.800e+01],\n",
       "       [9.000e-03],\n",
       "       [3.000e-01],\n",
       "       [9.000e-03],\n",
       "       [1.000e-01],\n",
       "       [7.000e-01],\n",
       "       [2.000e-01],\n",
       "       [1.500e-02],\n",
       "       [2.100e+00],\n",
       "       [9.000e-03],\n",
       "       [9.000e-03],\n",
       "       [9.000e-03],\n",
       "       [0.000e+00],\n",
       "       [1.500e-02],\n",
       "       [5.000e-02],\n",
       "       [2.000e-01],\n",
       "       [0.000e+00],\n",
       "       [9.000e-03],\n",
       "       [0.000e+00],\n",
       "       [5.770e+02],\n",
       "       [3.091e+02],\n",
       "       [2.000e-01],\n",
       "       [1.400e+01],\n",
       "       [8.720e+02],\n",
       "       [0.000e+00],\n",
       "       [2.000e-01],\n",
       "       [0.000e+00],\n",
       "       [1.700e+00],\n",
       "       [0.000e+00],\n",
       "       [9.000e-03],\n",
       "       [0.000e+00],\n",
       "       [1.790e+03],\n",
       "       [0.000e+00],\n",
       "       [3.000e-01],\n",
       "       [0.000e+00],\n",
       "       [5.300e+01],\n",
       "       [4.310e+01],\n",
       "       [4.000e-01],\n",
       "       [0.000e+00],\n",
       "       [2.000e-02],\n",
       "       [9.000e-03],\n",
       "       [0.000e+00],\n",
       "       [0.000e+00],\n",
       "       [0.000e+00],\n",
       "       [1.180e+01],\n",
       "       [0.000e+00],\n",
       "       [9.000e-03],\n",
       "       [9.000e-03],\n",
       "       [0.000e+00],\n",
       "       [1.000e-01],\n",
       "       [9.000e-03],\n",
       "       [1.800e+00],\n",
       "       [9.000e-03],\n",
       "       [2.600e-01],\n",
       "       [9.000e-01],\n",
       "       [9.000e-03],\n",
       "       [9.000e-03],\n",
       "       [0.000e+00],\n",
       "       [1.000e+00],\n",
       "       [9.000e-03],\n",
       "       [9.000e-03],\n",
       "       [1.500e+00],\n",
       "       [2.000e-02],\n",
       "       [0.000e+00],\n",
       "       [2.000e-01],\n",
       "       [4.000e-02],\n",
       "       [1.000e-02],\n",
       "       [0.000e+00],\n",
       "       [9.000e-03],\n",
       "       [9.000e-03],\n",
       "       [9.000e-03],\n",
       "       [3.600e+00],\n",
       "       [0.000e+00],\n",
       "       [1.000e-01],\n",
       "       [0.000e+00],\n",
       "       [4.000e-02],\n",
       "       [0.000e+00],\n",
       "       [9.000e-03],\n",
       "       [6.000e-02],\n",
       "       [4.000e-01],\n",
       "       [8.000e-01],\n",
       "       [9.000e-01],\n",
       "       [9.550e+01],\n",
       "       [9.000e-03],\n",
       "       [9.000e-03],\n",
       "       [0.000e+00],\n",
       "       [1.000e-01],\n",
       "       [3.000e-01],\n",
       "       [3.000e-02],\n",
       "       [1.200e+00],\n",
       "       [0.000e+00],\n",
       "       [9.000e-01],\n",
       "       [3.200e-01],\n",
       "       [5.000e-01],\n",
       "       [1.720e+01],\n",
       "       [0.000e+00],\n",
       "       [9.000e-03],\n",
       "       [9.000e-03],\n",
       "       [2.000e+00],\n",
       "       [9.000e-03],\n",
       "       [9.000e-03],\n",
       "       [9.000e-03],\n",
       "       [1.500e+00],\n",
       "       [2.000e-01],\n",
       "       [9.000e-03],\n",
       "       [8.000e+00],\n",
       "       [9.000e-03],\n",
       "       [1.000e-01],\n",
       "       [1.900e-01],\n",
       "       [2.000e-01],\n",
       "       [8.000e-01],\n",
       "       [9.000e-03],\n",
       "       [2.000e-01],\n",
       "       [9.000e-03],\n",
       "       [9.000e-03],\n",
       "       [1.500e-01],\n",
       "       [5.610e+02],\n",
       "       [9.000e-03],\n",
       "       [9.000e-03],\n",
       "       [2.000e-02],\n",
       "       [9.000e-03],\n",
       "       [0.000e+00],\n",
       "       [3.000e-01],\n",
       "       [3.103e+02],\n",
       "       [9.000e-03],\n",
       "       [4.000e-02],\n",
       "       [6.800e-02],\n",
       "       [0.000e+00],\n",
       "       [1.000e-02],\n",
       "       [9.200e+00],\n",
       "       [1.770e+00],\n",
       "       [3.000e-03],\n",
       "       [9.000e-03],\n",
       "       [9.000e-03]])"
      ]
     },
     "execution_count": 66,
     "metadata": {},
     "output_type": "execute_result"
    }
   ],
   "source": [
    "y = pd.read_csv(\"2017_burn_filtered.csv\")\n",
    "y = y.values\n",
    "y"
   ]
  },
  {
   "cell_type": "code",
   "execution_count": 59,
   "metadata": {},
   "outputs": [
    {
     "name": "stdout",
     "output_type": "stream",
     "text": [
      "2.0.3\n"
     ]
    }
   ],
   "source": [
    "# check xgboost version\n",
    "import xgboost\n",
    "print(xgboost.__version__)"
   ]
  },
  {
   "cell_type": "code",
   "execution_count": 100,
   "metadata": {},
   "outputs": [],
   "source": [
    "from xgboost import XGBRegressor\n",
    "\n",
    "model = XGBRegressor(n_estimators=1000, learning_rate=0.01, early_stopping_rounds=50)"
   ]
  },
  {
   "cell_type": "code",
   "execution_count": 67,
   "metadata": {},
   "outputs": [
    {
     "name": "stdout",
     "output_type": "stream",
     "text": [
      "Mean MAE: 66.496 (64.411)\n"
     ]
    }
   ],
   "source": [
    "# # define model evaluation method\n",
    "# from numpy import absolute\n",
    "# from sklearn.model_selection import RepeatedKFold, cross_val_score\n",
    "\n",
    "\n",
    "# cv = RepeatedKFold(n_splits=10, n_repeats=3, random_state=1)\n",
    "# # evaluate model\n",
    "# scores = cross_val_score(model, x, y, scoring='neg_mean_absolute_error', cv=cv, n_jobs=-1)\n",
    "\n",
    "# # force scores to be positive\n",
    "# scores = absolute(scores)\n",
    "# print('Mean MAE: %.3f (%.3f)' % (scores.mean(), scores.std()) )"
   ]
  },
  {
   "cell_type": "code",
   "execution_count": 101,
   "metadata": {},
   "outputs": [
    {
     "data": {
      "text/plain": [
       "array([[ -6.642,   0.6  ,  82.2  , ...,   0.   ,   2.77 ,  -9.2  ],\n",
       "       [ -7.608,   0.6  ,  80.7  , ...,   0.   ,   2.01 , -10.4  ],\n",
       "       [ -9.066,   0.6  ,  82.9  , ...,   0.   ,   1.51 , -11.4  ],\n",
       "       ...,\n",
       "       [ -6.231,   0.6  ,  95.5  , ...,   0.   ,   0.76 ,  -6.8  ],\n",
       "       [ -7.284,   0.6  ,  94.8  , ...,   0.   ,   1.01 ,  -8.   ],\n",
       "       [ -8.099,   0.6  ,  94.2  , ...,   0.   ,   1.01 ,  -8.9  ]])"
      ]
     },
     "execution_count": 101,
     "metadata": {},
     "output_type": "execute_result"
    }
   ],
   "source": [
    "x_new = pd.read_csv(\"2017_weather_filtered.csv\")\n",
    "x_new = x_new.values\n",
    "x_new"
   ]
  },
  {
   "cell_type": "code",
   "execution_count": 104,
   "metadata": {},
   "outputs": [
    {
     "data": {
      "text/html": [
       "<style>#sk-container-id-1 {color: black;}#sk-container-id-1 pre{padding: 0;}#sk-container-id-1 div.sk-toggleable {background-color: white;}#sk-container-id-1 label.sk-toggleable__label {cursor: pointer;display: block;width: 100%;margin-bottom: 0;padding: 0.3em;box-sizing: border-box;text-align: center;}#sk-container-id-1 label.sk-toggleable__label-arrow:before {content: \"▸\";float: left;margin-right: 0.25em;color: #696969;}#sk-container-id-1 label.sk-toggleable__label-arrow:hover:before {color: black;}#sk-container-id-1 div.sk-estimator:hover label.sk-toggleable__label-arrow:before {color: black;}#sk-container-id-1 div.sk-toggleable__content {max-height: 0;max-width: 0;overflow: hidden;text-align: left;background-color: #f0f8ff;}#sk-container-id-1 div.sk-toggleable__content pre {margin: 0.2em;color: black;border-radius: 0.25em;background-color: #f0f8ff;}#sk-container-id-1 input.sk-toggleable__control:checked~div.sk-toggleable__content {max-height: 200px;max-width: 100%;overflow: auto;}#sk-container-id-1 input.sk-toggleable__control:checked~label.sk-toggleable__label-arrow:before {content: \"▾\";}#sk-container-id-1 div.sk-estimator input.sk-toggleable__control:checked~label.sk-toggleable__label {background-color: #d4ebff;}#sk-container-id-1 div.sk-label input.sk-toggleable__control:checked~label.sk-toggleable__label {background-color: #d4ebff;}#sk-container-id-1 input.sk-hidden--visually {border: 0;clip: rect(1px 1px 1px 1px);clip: rect(1px, 1px, 1px, 1px);height: 1px;margin: -1px;overflow: hidden;padding: 0;position: absolute;width: 1px;}#sk-container-id-1 div.sk-estimator {font-family: monospace;background-color: #f0f8ff;border: 1px dotted black;border-radius: 0.25em;box-sizing: border-box;margin-bottom: 0.5em;}#sk-container-id-1 div.sk-estimator:hover {background-color: #d4ebff;}#sk-container-id-1 div.sk-parallel-item::after {content: \"\";width: 100%;border-bottom: 1px solid gray;flex-grow: 1;}#sk-container-id-1 div.sk-label:hover label.sk-toggleable__label {background-color: #d4ebff;}#sk-container-id-1 div.sk-serial::before {content: \"\";position: absolute;border-left: 1px solid gray;box-sizing: border-box;top: 0;bottom: 0;left: 50%;z-index: 0;}#sk-container-id-1 div.sk-serial {display: flex;flex-direction: column;align-items: center;background-color: white;padding-right: 0.2em;padding-left: 0.2em;position: relative;}#sk-container-id-1 div.sk-item {position: relative;z-index: 1;}#sk-container-id-1 div.sk-parallel {display: flex;align-items: stretch;justify-content: center;background-color: white;position: relative;}#sk-container-id-1 div.sk-item::before, #sk-container-id-1 div.sk-parallel-item::before {content: \"\";position: absolute;border-left: 1px solid gray;box-sizing: border-box;top: 0;bottom: 0;left: 50%;z-index: -1;}#sk-container-id-1 div.sk-parallel-item {display: flex;flex-direction: column;z-index: 1;position: relative;background-color: white;}#sk-container-id-1 div.sk-parallel-item:first-child::after {align-self: flex-end;width: 50%;}#sk-container-id-1 div.sk-parallel-item:last-child::after {align-self: flex-start;width: 50%;}#sk-container-id-1 div.sk-parallel-item:only-child::after {width: 0;}#sk-container-id-1 div.sk-dashed-wrapped {border: 1px dashed gray;margin: 0 0.4em 0.5em 0.4em;box-sizing: border-box;padding-bottom: 0.4em;background-color: white;}#sk-container-id-1 div.sk-label label {font-family: monospace;font-weight: bold;display: inline-block;line-height: 1.2em;}#sk-container-id-1 div.sk-label-container {text-align: center;}#sk-container-id-1 div.sk-container {/* jupyter's `normalize.less` sets `[hidden] { display: none; }` but bootstrap.min.css set `[hidden] { display: none !important; }` so we also need the `!important` here to be able to override the default hidden behavior on the sphinx rendered scikit-learn.org. See: https://github.com/scikit-learn/scikit-learn/issues/21755 */display: inline-block !important;position: relative;}#sk-container-id-1 div.sk-text-repr-fallback {display: none;}</style><div id=\"sk-container-id-1\" class=\"sk-top-container\"><div class=\"sk-text-repr-fallback\"><pre>XGBRegressor(base_score=None, booster=None, callbacks=None,\n",
       "             colsample_bylevel=None, colsample_bynode=None,\n",
       "             colsample_bytree=None, device=None, early_stopping_rounds=50,\n",
       "             enable_categorical=False, eval_metric=None, feature_types=None,\n",
       "             gamma=None, grow_policy=None, importance_type=None,\n",
       "             interaction_constraints=None, learning_rate=0.01, max_bin=None,\n",
       "             max_cat_threshold=None, max_cat_to_onehot=None,\n",
       "             max_delta_step=None, max_depth=None, max_leaves=None,\n",
       "             min_child_weight=None, missing=nan, monotone_constraints=None,\n",
       "             multi_strategy=None, n_estimators=1000, n_jobs=None,\n",
       "             num_parallel_tree=None, random_state=None, ...)</pre><b>In a Jupyter environment, please rerun this cell to show the HTML representation or trust the notebook. <br />On GitHub, the HTML representation is unable to render, please try loading this page with nbviewer.org.</b></div><div class=\"sk-container\" hidden><div class=\"sk-item\"><div class=\"sk-estimator sk-toggleable\"><input class=\"sk-toggleable__control sk-hidden--visually\" id=\"sk-estimator-id-1\" type=\"checkbox\" checked><label for=\"sk-estimator-id-1\" class=\"sk-toggleable__label sk-toggleable__label-arrow\">XGBRegressor</label><div class=\"sk-toggleable__content\"><pre>XGBRegressor(base_score=None, booster=None, callbacks=None,\n",
       "             colsample_bylevel=None, colsample_bynode=None,\n",
       "             colsample_bytree=None, device=None, early_stopping_rounds=50,\n",
       "             enable_categorical=False, eval_metric=None, feature_types=None,\n",
       "             gamma=None, grow_policy=None, importance_type=None,\n",
       "             interaction_constraints=None, learning_rate=0.01, max_bin=None,\n",
       "             max_cat_threshold=None, max_cat_to_onehot=None,\n",
       "             max_delta_step=None, max_depth=None, max_leaves=None,\n",
       "             min_child_weight=None, missing=nan, monotone_constraints=None,\n",
       "             multi_strategy=None, n_estimators=1000, n_jobs=None,\n",
       "             num_parallel_tree=None, random_state=None, ...)</pre></div></div></div></div></div>"
      ],
      "text/plain": [
       "XGBRegressor(base_score=None, booster=None, callbacks=None,\n",
       "             colsample_bylevel=None, colsample_bynode=None,\n",
       "             colsample_bytree=None, device=None, early_stopping_rounds=50,\n",
       "             enable_categorical=False, eval_metric=None, feature_types=None,\n",
       "             gamma=None, grow_policy=None, importance_type=None,\n",
       "             interaction_constraints=None, learning_rate=0.01, max_bin=None,\n",
       "             max_cat_threshold=None, max_cat_to_onehot=None,\n",
       "             max_delta_step=None, max_depth=None, max_leaves=None,\n",
       "             min_child_weight=None, missing=nan, monotone_constraints=None,\n",
       "             multi_strategy=None, n_estimators=1000, n_jobs=None,\n",
       "             num_parallel_tree=None, random_state=None, ...)"
      ]
     },
     "execution_count": 104,
     "metadata": {},
     "output_type": "execute_result"
    }
   ],
   "source": [
    "model.fit(x, y, eval_set=[(x, y)], verbose=False)\n",
    "y_new = model.predict(x_new)\n",
    "y_new"
   ]
  },
  {
   "cell_type": "code",
   "execution_count": 86,
   "metadata": {},
   "outputs": [
    {
     "data": {
      "text/plain": [
       "array([[4.0000e+00],\n",
       "       [9.0000e-03],\n",
       "       [9.0000e-03],\n",
       "       [9.0000e-01],\n",
       "       [4.0000e+00],\n",
       "       [9.0000e-03],\n",
       "       [9.0000e-03],\n",
       "       [9.0000e-03],\n",
       "       [8.4000e-01],\n",
       "       [0.0000e+00],\n",
       "       [1.9000e+00],\n",
       "       [9.0000e-01],\n",
       "       [9.0000e-01],\n",
       "       [1.9000e+00],\n",
       "       [0.0000e+00],\n",
       "       [9.0000e-01],\n",
       "       [9.0000e-03],\n",
       "       [4.0000e+00],\n",
       "       [0.0000e+00],\n",
       "       [0.0000e+00],\n",
       "       [4.0000e-01],\n",
       "       [8.4000e-01],\n",
       "       [0.0000e+00],\n",
       "       [4.0000e+00],\n",
       "       [9.0000e-03],\n",
       "       [1.6500e+02],\n",
       "       [5.0000e+00],\n",
       "       [1.7600e+01],\n",
       "       [1.5000e-01],\n",
       "       [5.6000e+00],\n",
       "       [9.0000e-03],\n",
       "       [5.6000e+00],\n",
       "       [5.0000e+00],\n",
       "       [0.0000e+00],\n",
       "       [9.0000e-03],\n",
       "       [1.7600e+01],\n",
       "       [1.6500e+02],\n",
       "       [3.0000e+00],\n",
       "       [3.0000e+00],\n",
       "       [1.0500e+00],\n",
       "       [1.0500e+00],\n",
       "       [9.0000e-03],\n",
       "       [0.0000e+00],\n",
       "       [9.0000e-03],\n",
       "       [9.0000e-03],\n",
       "       [9.0000e-03],\n",
       "       [1.0000e-01],\n",
       "       [1.4000e+00],\n",
       "       [9.0000e-03],\n",
       "       [0.0000e+00],\n",
       "       [2.0000e-01],\n",
       "       [0.0000e+00],\n",
       "       [1.4000e+00],\n",
       "       [1.4000e+00],\n",
       "       [0.0000e+00],\n",
       "       [3.0000e-01],\n",
       "       [1.0000e-01],\n",
       "       [0.0000e+00],\n",
       "       [9.0000e-03],\n",
       "       [2.0000e-01],\n",
       "       [1.4000e+00],\n",
       "       [0.0000e+00],\n",
       "       [9.0000e-03],\n",
       "       [3.0000e-01],\n",
       "       [0.0000e+00],\n",
       "       [0.0000e+00],\n",
       "       [4.0000e-01],\n",
       "       [0.0000e+00],\n",
       "       [0.0000e+00],\n",
       "       [9.0000e-03],\n",
       "       [5.0000e-01],\n",
       "       [9.0000e-03],\n",
       "       [0.0000e+00],\n",
       "       [4.4000e-01],\n",
       "       [5.0000e-01],\n",
       "       [0.0000e+00],\n",
       "       [4.0000e-01],\n",
       "       [9.0000e-03],\n",
       "       [0.0000e+00],\n",
       "       [4.4000e-01],\n",
       "       [1.0000e-01],\n",
       "       [9.0000e-03],\n",
       "       [9.0000e-03],\n",
       "       [9.0000e-03],\n",
       "       [9.0000e-03],\n",
       "       [3.1500e+02],\n",
       "       [1.0000e-01],\n",
       "       [9.0000e-03],\n",
       "       [9.0000e-03],\n",
       "       [3.1500e+02],\n",
       "       [1.0000e-01],\n",
       "       [0.0000e+00],\n",
       "       [9.0000e-03],\n",
       "       [9.0000e-03],\n",
       "       [0.0000e+00],\n",
       "       [5.0000e-02],\n",
       "       [9.0000e-03],\n",
       "       [9.0000e-03],\n",
       "       [0.0000e+00],\n",
       "       [9.0000e-03],\n",
       "       [0.0000e+00],\n",
       "       [9.0000e-03],\n",
       "       [0.0000e+00],\n",
       "       [9.0000e-03],\n",
       "       [5.0000e-02],\n",
       "       [9.0000e-03],\n",
       "       [9.0000e-03],\n",
       "       [6.0000e-01],\n",
       "       [2.0000e-01],\n",
       "       [0.0000e+00],\n",
       "       [5.4270e+02],\n",
       "       [0.0000e+00],\n",
       "       [1.0000e-01],\n",
       "       [0.0000e+00],\n",
       "       [1.4000e-01],\n",
       "       [1.0000e-01],\n",
       "       [1.6500e+01],\n",
       "       [6.5000e+00],\n",
       "       [9.0000e-03],\n",
       "       [9.0000e-03],\n",
       "       [0.0000e+00],\n",
       "       [3.0000e-01],\n",
       "       [1.6500e+01],\n",
       "       [4.0000e-02],\n",
       "       [0.0000e+00],\n",
       "       [1.5500e+01],\n",
       "       [9.0000e-03],\n",
       "       [2.1795e+04],\n",
       "       [3.0000e-01],\n",
       "       [4.6000e-01],\n",
       "       [9.0000e-03],\n",
       "       [3.5100e+01],\n",
       "       [9.0000e-03],\n",
       "       [9.6000e+00],\n",
       "       [9.6000e+00],\n",
       "       [1.7000e+03],\n",
       "       [0.0000e+00],\n",
       "       [1.7000e+03],\n",
       "       [7.0000e+02],\n",
       "       [9.0000e-03],\n",
       "       [2.6100e+02],\n",
       "       [4.0000e-01],\n",
       "       [0.0000e+00],\n",
       "       [4.0000e-02]])"
      ]
     },
     "execution_count": 86,
     "metadata": {},
     "output_type": "execute_result"
    }
   ],
   "source": [
    "y_comp = pd.read_csv(\"2018_burn_filtered.csv\")\n",
    "y_comp = y_comp.values\n",
    "y_comp"
   ]
  },
  {
   "cell_type": "code",
   "execution_count": 96,
   "metadata": {},
   "outputs": [
    {
     "data": {
      "text/plain": [
       "144"
      ]
     },
     "execution_count": 96,
     "metadata": {},
     "output_type": "execute_result"
    }
   ],
   "source": [
    "import numpy as np\n",
    "\n",
    "diff = np.subtract(y_new, y_comp)\n",
    "diff"
   ]
  },
  {
   "cell_type": "code",
   "execution_count": 94,
   "metadata": {},
   "outputs": [],
   "source": [
    "np.savetxt(\"delta.csv\", diff, delimiter=',')"
   ]
  },
  {
   "cell_type": "code",
   "execution_count": null,
   "metadata": {},
   "outputs": [],
   "source": []
  }
 ],
 "metadata": {
  "kernelspec": {
   "display_name": "Python 3",
   "language": "python",
   "name": "python3"
  },
  "language_info": {
   "codemirror_mode": {
    "name": "ipython",
    "version": 3
   },
   "file_extension": ".py",
   "mimetype": "text/x-python",
   "name": "python",
   "nbconvert_exporter": "python",
   "pygments_lexer": "ipython3",
   "version": "3.10.8"
  }
 },
 "nbformat": 4,
 "nbformat_minor": 2
}
