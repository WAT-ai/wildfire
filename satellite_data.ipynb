{
 "cells": [
  {
   "cell_type": "code",
   "execution_count": null,
   "metadata": {},
   "outputs": [
    {
     "ename": "",
     "evalue": "",
     "output_type": "error",
     "traceback": [
      "\u001b[1;31mRunning cells with 'c:\\msys64\\mingw64\\bin\\python.exe' requires the ipykernel package.\n",
      "\u001b[1;31mRun the following command to install 'ipykernel' into the Python environment. \n",
      "\u001b[1;31mCommand: 'c:/msys64/mingw64/bin/python.exe -m pip install ipykernel -U --user --force-reinstall'"
     ]
    }
   ],
   "source": [
    "import pandas as pd\n",
    "import os"
   ]
  },
  {
   "cell_type": "code",
   "execution_count": null,
   "metadata": {},
   "outputs": [
    {
     "ename": "",
     "evalue": "",
     "output_type": "error",
     "traceback": [
      "\u001b[1;31mRunning cells with 'c:\\msys64\\mingw64\\bin\\python.exe' requires the ipykernel package.\n",
      "\u001b[1;31mRun the following command to install 'ipykernel' into the Python environment. \n",
      "\u001b[1;31mCommand: 'c:/msys64/mingw64/bin/python.exe -m pip install ipykernel -U --user --force-reinstall'"
     ]
    }
   ],
   "source": [
    "path = \"/Users/rchang/WAT-ai/wildfire/data/raw/BC_Fire_Points_2020-2022\"\n",
    "directory = os.fsencode(path)\n",
    "directory\n",
    "\n",
    "dfs = []\n",
    "\n",
    "for file in os.listdir(directory):\n",
    "    filename = os.fsdecode(file)\n",
    "    if filename.endswith(\".csv\"):\n",
    "        print(filename)\n",
    "        df = pd.read_csv(path + \"/\" + filename)\n",
    "        # df.set_index(\"YEAR\", inplace=True)\n",
    "        \n",
    "        df.rename(columns={\"IGNITION DATE\": \"IGNITION_DATE\", \"Name\": \"NAME\", \"GEOGRAPHIC\": \"LOCATION\"}, inplace=True)\n",
    "        df.drop([\"X\",\"Y\",\"FIRE_OF_NOTE_IND\", \"Fire Number\", \"RESPONSE_TYPE_DESC\", \"INCIDENT_NAME\", \"Field_1\", \"IGNITION_DATE\", \"NAME\",\"LOCATION\"], axis=1, inplace=True)\n",
    "        df.dropna(inplace=True)\n",
    "\n",
    "        dfs.append(df)\n",
    "        continue\n",
    "    else:\n",
    "        continue\n",
    "\n",
    "df_2020_2022 = pd.concat(dfs)\n",
    "# df_2020_2022.to_csv(\"test.csv\")\n",
    "df_2020_2022"
   ]
  },
  {
   "cell_type": "code",
   "execution_count": null,
   "metadata": {},
   "outputs": [
    {
     "ename": "",
     "evalue": "",
     "output_type": "error",
     "traceback": [
      "\u001b[1;31mRunning cells with 'c:\\msys64\\mingw64\\bin\\python.exe' requires the ipykernel package.\n",
      "\u001b[1;31mRun the following command to install 'ipykernel' into the Python environment. \n",
      "\u001b[1;31mCommand: 'c:/msys64/mingw64/bin/python.exe -m pip install ipykernel -U --user --force-reinstall'"
     ]
    }
   ],
   "source": [
    "path = \"/Users/rchang/WAT-ai/wildfire/data/raw/BC_Fire_Points_2019-2021\"\n",
    "directory = os.fsencode(path)\n",
    "directory\n",
    "\n",
    "dfs = []\n",
    "\n",
    "for file in os.listdir(directory):\n",
    "    filename = os.fsdecode(file)\n",
    "    if filename.endswith(\".csv\"):\n",
    "        print(filename)\n",
    "        df = pd.read_csv(path + \"/\" + filename)\n",
    "\n",
    "        df.rename(columns={\"WILDFIRE_YEAR\": \"YEAR\", \"GEOGRAPHIC_DESCRIPTION\": \"LOCATION\"}, inplace=True)\n",
    "        # df.set_index(\"YEAR\", inplace=True)\n",
    "\n",
    "        df.drop([\"X\",\"Y\",\"Name\",\"INCIDENT_NUMBER_LABEL\",\"IGNITION_DATE\",\"LOCATION\"], axis=1, inplace=True)\n",
    "        df.dropna(inplace=True)\n",
    "\n",
    "        dfs.append(df)\n",
    "        continue\n",
    "    else:\n",
    "        continue\n",
    "\n",
    "df_2019_2021 = pd.concat(dfs)\n",
    "# df_2019_2021.to_csv(\"test.csv\")\n",
    "df_2019_2021"
   ]
  },
  {
   "cell_type": "code",
   "execution_count": null,
   "metadata": {},
   "outputs": [
    {
     "ename": "",
     "evalue": "",
     "output_type": "error",
     "traceback": [
      "\u001b[1;31mRunning cells with 'c:\\msys64\\mingw64\\bin\\python.exe' requires the ipykernel package.\n",
      "\u001b[1;31mRun the following command to install 'ipykernel' into the Python environment. \n",
      "\u001b[1;31mCommand: 'c:/msys64/mingw64/bin/python.exe -m pip install ipykernel -U --user --force-reinstall'"
     ]
    }
   ],
   "source": [
    "path = \"/Users/rchang/WAT-ai/wildfire/data/raw/BC_Fire_Points_2018-2020\"\n",
    "directory = os.fsencode(path)\n",
    "directory\n",
    "\n",
    "dfs = []\n",
    "\n",
    "for file in os.listdir(directory):\n",
    "    filename = os.fsdecode(file)\n",
    "    if filename.endswith(\".csv\"):\n",
    "        print(filename)\n",
    "        df = pd.read_csv(path + \"/\" + filename)\n",
    "\n",
    "        df.rename(columns={\"WILDFIRE_YEAR\": \"YEAR\", \"GEOGRAPHIC_DESCRIPTION\": \"LOCATION\"}, inplace=True)\n",
    "        # df.set_index(\"YEAR\", inplace=True)\n",
    "\n",
    "        df.drop([\"X\",\"Y\",\"Name\",\"INCIDENT_NUMBER_LABEL\",\"IGNITION_DATE\",\"LOCATION\"], axis=1, inplace=True)\n",
    "        df.dropna(inplace=True)\n",
    "\n",
    "        dfs.append(df)\n",
    "        continue\n",
    "    else:\n",
    "        continue\n",
    "\n",
    "df_2018_2020 = pd.concat(dfs)\n",
    "# df_2018_2020.to_csv(\"test.csv\")\n",
    "df_2018_2020"
   ]
  },
  {
   "cell_type": "code",
   "execution_count": null,
   "metadata": {},
   "outputs": [
    {
     "ename": "",
     "evalue": "",
     "output_type": "error",
     "traceback": [
      "\u001b[1;31mRunning cells with 'c:\\msys64\\mingw64\\bin\\python.exe' requires the ipykernel package.\n",
      "\u001b[1;31mRun the following command to install 'ipykernel' into the Python environment. \n",
      "\u001b[1;31mCommand: 'c:/msys64/mingw64/bin/python.exe -m pip install ipykernel -U --user --force-reinstall'"
     ]
    }
   ],
   "source": [
    "path = \"/Users/rchang/WAT-ai/wildfire/data/raw/BC_Fire_Points_2017-2019\"\n",
    "directory = os.fsencode(path)\n",
    "directory\n",
    "\n",
    "dfs = []\n",
    "\n",
    "for file in os.listdir(directory):\n",
    "    filename = os.fsdecode(file)\n",
    "    if filename.endswith(\".csv\"):\n",
    "        print(filename)\n",
    "        df = pd.read_csv(path + \"/\" + filename)\n",
    "\n",
    "        df.rename(columns={\"FIRE_YEAR\": \"YEAR\", \"GEOGRAPHIC_DESCRIPTION\": \"LOCATION\", \"CURRENT_SIZE\":\"FIRE_SIZE_HA\"}, inplace=True)\n",
    "        # df.set_index(\"YEAR\", inplace=True)\n",
    "\n",
    "        df.drop([\"X\",\"Y\",\"Name\",\"Field_1\",\"FIRE_NUMBER\",\"IGNITION_DATE\",\"LOCATION\"], axis=1, inplace=True)\n",
    "        df.dropna(inplace=True)\n",
    "\n",
    "        dfs.append(df)\n",
    "        continue\n",
    "    else:\n",
    "        continue\n",
    "\n",
    "df_2017_2019 = pd.concat(dfs)\n",
    "# df_2017_2019.to_csv(\"test.csv\")\n",
    "df_2017_2019"
   ]
  },
  {
   "cell_type": "code",
   "execution_count": null,
   "metadata": {},
   "outputs": [
    {
     "ename": "",
     "evalue": "",
     "output_type": "error",
     "traceback": [
      "\u001b[1;31mRunning cells with 'c:\\msys64\\mingw64\\bin\\python.exe' requires the ipykernel package.\n",
      "\u001b[1;31mRun the following command to install 'ipykernel' into the Python environment. \n",
      "\u001b[1;31mCommand: 'c:/msys64/mingw64/bin/python.exe -m pip install ipykernel -U --user --force-reinstall'"
     ]
    }
   ],
   "source": [
    "path = \"/Users/rchang/WAT-ai/wildfire/data/raw/BC_Fire_Points_2015-2017\"\n",
    "directory = os.fsencode(path)\n",
    "directory\n",
    "\n",
    "dfs = []\n",
    "\n",
    "for file in os.listdir(directory):\n",
    "    filename = os.fsdecode(file)\n",
    "    if filename.endswith(\".csv\"):\n",
    "        print(filename)\n",
    "        df = pd.read_csv(path + \"/\" + filename)\n",
    "\n",
    "        df.rename(columns={\"FIREYEAR\": \"YEAR\", \"CURRENTSIZE\":\"FIRE_SIZE_HA\"}, inplace=True)\n",
    "        # df.set_index(\"YEAR\", inplace=True)\n",
    "\n",
    "        df.drop([\"X\",\"Y\",\"Name\",\"Field_1\",\"FIRENUMBER\",\"CAUSE GENERAL\",\"FIRETYPE\"], axis=1, inplace=True)\n",
    "        df.dropna(inplace=True)\n",
    "\n",
    "        dfs.append(df)\n",
    "        continue\n",
    "    else:\n",
    "        continue\n",
    "\n",
    "df_2015_2017 = pd.concat(dfs)\n",
    "# df_2015_2017.to_csv(\"test.csv\")\n",
    "df_2015_2017"
   ]
  },
  {
   "cell_type": "code",
   "execution_count": null,
   "metadata": {},
   "outputs": [
    {
     "ename": "",
     "evalue": "",
     "output_type": "error",
     "traceback": [
      "\u001b[1;31mRunning cells with 'c:\\msys64\\mingw64\\bin\\python.exe' requires the ipykernel package.\n",
      "\u001b[1;31mRun the following command to install 'ipykernel' into the Python environment. \n",
      "\u001b[1;31mCommand: 'c:/msys64/mingw64/bin/python.exe -m pip install ipykernel -U --user --force-reinstall'"
     ]
    }
   ],
   "source": [
    "path = \"/Users/rchang/WAT-ai/wildfire/data/raw/BC_Fire_Points_2013-2015\"\n",
    "directory = os.fsencode(path)\n",
    "directory\n",
    "\n",
    "dfs = []\n",
    "\n",
    "for file in os.listdir(directory):\n",
    "    filename = os.fsdecode(file)\n",
    "    if filename.endswith(\".csv\"):\n",
    "        print(filename)\n",
    "        df = pd.read_csv(path + \"/\" + filename)\n",
    "\n",
    "        df.rename(columns={\"FIREYEAR\": \"YEAR\", \"CURRENTSIZE\":\"FIRE_SIZE_HA\"}, inplace=True)\n",
    "        # df.set_index(\"YEAR\", inplace=True)\n",
    "\n",
    "        df.drop([\"X\",\"Y\",\"Name\",\"Field_1\",\"FIRENUMBER\",\"CAUSE_GENERAL_KMZ\",\"FIRETYPE\"], axis=1, inplace=True)\n",
    "        df.dropna(inplace=True)\n",
    "\n",
    "        dfs.append(df)\n",
    "        continue\n",
    "    else:\n",
    "        continue\n",
    "\n",
    "df_2013_2015 = pd.concat(dfs)\n",
    "# df_2013_2015.to_csv(\"test.csv\")\n",
    "df_2013_2015"
   ]
  },
  {
   "cell_type": "code",
   "execution_count": null,
   "metadata": {},
   "outputs": [
    {
     "ename": "",
     "evalue": "",
     "output_type": "error",
     "traceback": [
      "\u001b[1;31mRunning cells with 'c:\\msys64\\mingw64\\bin\\python.exe' requires the ipykernel package.\n",
      "\u001b[1;31mRun the following command to install 'ipykernel' into the Python environment. \n",
      "\u001b[1;31mCommand: 'c:/msys64/mingw64/bin/python.exe -m pip install ipykernel -U --user --force-reinstall'"
     ]
    }
   ],
   "source": [
    "df_total = pd.concat([df_2020_2022, df_2019_2021, df_2018_2020, df_2017_2019, df_2015_2017, df_2013_2015])\n",
    "df_total.sort_values(by=\"YEAR\", inplace=True)\n",
    "\n",
    "res = df_total.loc[df_total[\"YEAR\"] >= 2013] \n",
    "res.set_index(\"YEAR\", inplace=True)\n",
    "\n",
    "res.to_csv(\"data/satellite_burn.csv\")\n",
    "res"
   ]
  },
  {
   "cell_type": "code",
   "execution_count": null,
   "metadata": {},
   "outputs": [
    {
     "ename": "",
     "evalue": "",
     "output_type": "error",
     "traceback": [
      "\u001b[1;31mRunning cells with 'c:\\msys64\\mingw64\\bin\\python.exe' requires the ipykernel package.\n",
      "\u001b[1;31mRun the following command to install 'ipykernel' into the Python environment. \n",
      "\u001b[1;31mCommand: 'c:/msys64/mingw64/bin/python.exe -m pip install ipykernel -U --user --force-reinstall'"
     ]
    }
   ],
   "source": []
  }
 ],
 "metadata": {
  "kernelspec": {
   "display_name": "Python 3",
   "language": "python",
   "name": "python3"
  },
  "language_info": {
   "codemirror_mode": {
    "name": "ipython",
    "version": 3
   },
   "file_extension": ".py",
   "mimetype": "text/x-python",
   "name": "python",
   "nbconvert_exporter": "python",
   "pygments_lexer": "ipython3",
   "version": "3.8.9"
  },
  "orig_nbformat": 4
 },
 "nbformat": 4,
 "nbformat_minor": 2
}
