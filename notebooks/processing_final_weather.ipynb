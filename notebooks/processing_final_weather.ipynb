{
 "cells": [
  {
   "cell_type": "code",
   "execution_count": 1,
   "id": "74e09a03",
   "metadata": {},
   "outputs": [],
   "source": [
    "import pandas as pd\n",
    "import os"
   ]
  },
  {
   "cell_type": "code",
   "execution_count": 2,
   "id": "43126b30",
   "metadata": {},
   "outputs": [],
   "source": [
    "for curr_year in range(2016,2023):\n",
    "\n",
    "    base_dir = \"../data/processing/weather-stations/kelowna/\"\n",
    "\n",
    "    for i in range(1,37):\n",
    "        filtered_df = pd.read_csv(base_dir + f\"fine_area_{i}_stations.csv\")\n",
    "        my_filter = ['ONE_DAY_PRECIPITATION', 'ONE_DAY_RAIN', 'MIN_TEMP', 'ONE_DAY_SNOW', 'time', 'MAX_TEMP']\n",
    "\n",
    "        for week in range(1,53):\n",
    "            weekly_dataframes = []\n",
    "            for index, row in filtered_df.iterrows():\n",
    "                network_name = row['Network Name']\n",
    "                native_id = row['Native ID']\n",
    "\n",
    "                file_path = f'../data/raw/weather/{curr_year}/week_{week}/{network_name}/{native_id}.csv'\n",
    "\n",
    "                if os.path.exists(file_path):\n",
    "                    temp_df = pd.read_csv(file_path)\n",
    "                    weekly_dataframes.append(temp_df)\n",
    "                    \n",
    "            if weekly_dataframes:\n",
    "                combined_df = pd.concat(weekly_dataframes, ignore_index=True, axis=0, join='outer')\n",
    "                if not os.path.exists(f'../data/processing/final-weather/{curr_year}/week_{week}'):\n",
    "                    os.makedirs(f'../data/processing/final-weather/{curr_year}/week_{week}')\n",
    "                combined_csv_path = f'../data/processing/final-weather/{curr_year}/week_{week}/fine_area_{i}_weather.csv'\n",
    "                combined_df.to_csv(combined_csv_path, index=False, header=True)"
   ]
  },
  {
   "cell_type": "code",
   "execution_count": null,
   "id": "e0efbb16",
   "metadata": {},
   "outputs": [],
   "source": []
  }
 ],
 "metadata": {
  "kernelspec": {
   "display_name": "Python 3 (ipykernel)",
   "language": "python",
   "name": "python3"
  },
  "language_info": {
   "codemirror_mode": {
    "name": "ipython",
    "version": 3
   },
   "file_extension": ".py",
   "mimetype": "text/x-python",
   "name": "python",
   "nbconvert_exporter": "python",
   "pygments_lexer": "ipython3",
   "version": "3.10.8"
  }
 },
 "nbformat": 4,
 "nbformat_minor": 5
}
