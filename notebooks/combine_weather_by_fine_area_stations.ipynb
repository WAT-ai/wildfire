{
 "cells": [
  {
   "cell_type": "markdown",
   "metadata": {},
   "source": [
    "# Group Weather Data based on Fine Area Stations"
   ]
  },
  {
   "cell_type": "code",
   "execution_count": 1,
   "metadata": {},
   "outputs": [
    {
     "name": "stdout",
     "output_type": "stream",
     "text": [
      "  ONE_DAY_PRECIPITATION ONE_DAY_RAIN   MIN_TEMP ONE_DAY_SNOW time   \n",
      "0              3.511111     3.511111   1.416667          0.0  NaN  \\\n",
      "1              1.928571          0.0 -11.821429     1.928571  NaN   \n",
      "2                  1.56         0.08  -6.306667     1.826667  NaN   \n",
      "3                   NaN          NaN        NaN          NaN  NaN   \n",
      "\n",
      "  SNOW_ON_THE_GROUND  MAX_TEMP  \n",
      "0                0.0  5.305556  \n",
      "1         163.642857 -6.678571  \n",
      "2          18.866667 -1.146667  \n",
      "3                NaN       NaN  \n"
     ]
    }
   ],
   "source": [
    "\n",
    "import pandas as pd\n",
    "from pathlib import Path\n",
    "\n",
    "\n",
    "# assign directory\n",
    "directory = './data/final-weather/2017/week-1/'\n",
    "# iterate over files in that directory\n",
    "file_list = Path(directory).glob('*')\n",
    "\n",
    "# Read CSV files and calculate averages\n",
    "dfs = []\n",
    "for file in file_list:\n",
    "    df = pd.read_csv(file, skipinitialspace=True)  # skipinitialspace to remove extra spaces in column names\n",
    "    # Convert columns to numeric, handling errors with coerce to replace invalid values with NaN\n",
    "    df = df.apply(pd.to_numeric, errors='coerce')\n",
    "    # Calculate average of each column\n",
    "    averaged_values = df.mean(axis=0)\n",
    "    dfs.append(averaged_values)\n",
    "\n",
    "# Concatenate averaged values into one DataFrame\n",
    "final_output = pd.concat(dfs, axis=1).transpose()\n",
    "\n",
    "print(final_output)\n",
    "\n",
    "final_output.to_csv(\"final_2017_week_1_weather.csv\", index=False)\n"
   ]
  }
 ],
 "metadata": {
  "kernelspec": {
   "display_name": "Python 3",
   "language": "python",
   "name": "python3"
  },
  "language_info": {
   "codemirror_mode": {
    "name": "ipython",
    "version": 3
   },
   "file_extension": ".py",
   "mimetype": "text/x-python",
   "name": "python",
   "nbconvert_exporter": "python",
   "pygments_lexer": "ipython3",
   "version": "3.11.3"
  }
 },
 "nbformat": 4,
 "nbformat_minor": 2
}
