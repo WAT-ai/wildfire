{
 "cells": [
  {
   "cell_type": "code",
   "execution_count": 1,
   "metadata": {},
   "outputs": [],
   "source": [
    "## NOTE: code was integrated into xgboost trainer\n",
    "\n",
    "import pandas as pd\n",
    "import numpy as np\n",
    "import os\n",
    "\n",
    "\n",
    "def data_ingestion_v2():\n",
    "    print(\"Data Ingestion v2\")\n",
    "    \n",
    "    for group in range(1, 25):\n",
    "        burn_path = 'data/training/quarterly-6-by-6/satellite-burn/group_' + str(group + 1) + '.csv'\n",
    "        weather_path = 'data/training/quarterly-6-by-6/weather/group_' + str(group) + '.csv'\n",
    "        burn_data_df = pd.read_csv(burn_path)\n",
    "        weather_data_df = pd.read_csv(weather_path)\n",
    "        print(\"Burn data for group \" + str(group + 1) + \": \"  + burn_data_df.head(36).to_string())\n",
    "        print(\"Weather data for group \" + str(group) + \": \" + weather_data_df.head(36).to_string())\n",
    "\n",
    "def data_ingestion():\n",
    "    print(\"Data Ingestion\")\n",
    "    \n",
    "    # Idea: keep n be weather data and n+1 be burn data\n",
    "    # Group 1: weather group 1, burn group 2\n",
    "    # Week 52: weather year x week 52, burn year x+1 week 1\n",
    "    \n",
    "    for year in range(2017, 2023):\n",
    "        year_burn_path = os.path.join('data/final-satellite-burn/', str(year))\n",
    "        year_weather_path = os.path.join('data/final-weather/', str(year))\n",
    "        for week in range(1, 53):\n",
    "            year_week_burn_path = \"\"\n",
    "            year_week_weather_path = os.path.join(year_weather_path, \"week_\" + str(week) + '.csv')\n",
    "            # Normal case (week 1-51)\n",
    "            if week <= 51:\n",
    "                year_week_burn_path = os.path.join(year_burn_path, \"week_\" + str(week + 1) + '.csv')\n",
    "            \n",
    "            # Edge case (week 52)\n",
    "            if week == 52 and year != 2022:\n",
    "                new_year_path = os.path.join('data/final-satellite-burn/', str(year + 1))\n",
    "                year_week_burn_path = os.path.join(new_year_path, \"week_1.csv\")\n",
    "            \n",
    "            # Sanity check for right files\n",
    "            if year_week_burn_path != \"\":\n",
    "                print(\"Comparing burn data from: \" + year_week_burn_path + \" with weather data from: \" + year_week_weather_path)\n",
    "                burn_data_df = pd.read_csv(year_week_burn_path)\n",
    "                weather_data_df = pd.read_csv(year_week_weather_path)\n",
    "                print(\"Burn data: \" + burn_data_df.head(36).to_string())\n",
    "                # print(\"Weather data: \" + str(weather_data_df.shape)) incomplete weather data\n",
    "            else:\n",
    "                break\n",
    "\n"
   ]
  },
  {
   "cell_type": "code",
   "execution_count": null,
   "metadata": {},
   "outputs": [],
   "source": [
    "data_ingestion_v2()"
   ]
  }
 ],
 "metadata": {
  "kernelspec": {
   "display_name": "Python 3",
   "language": "python",
   "name": "python3"
  },
  "language_info": {
   "codemirror_mode": {
    "name": "ipython",
    "version": 3
   },
   "file_extension": ".py",
   "mimetype": "text/x-python",
   "name": "python",
   "nbconvert_exporter": "python",
   "pygments_lexer": "ipython3",
   "version": "3.10.8"
  }
 },
 "nbformat": 4,
 "nbformat_minor": 2
}
