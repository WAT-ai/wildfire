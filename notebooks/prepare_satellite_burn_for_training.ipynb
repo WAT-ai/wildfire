{
 "cells": [
  {
   "cell_type": "code",
   "execution_count": 1,
   "metadata": {},
   "outputs": [],
   "source": [
    "import os\n",
    "import numpy as np\n",
    "import csv"
   ]
  },
  {
   "cell_type": "code",
   "execution_count": 2,
   "metadata": {},
   "outputs": [],
   "source": [
    "all_weeks = []\n",
    "\n",
    "def get_all_satellite_data():\n",
    "    base_path = '../data/processing/final-satellite-burn'\n",
    "    for year_num in range(2017, 2024):\n",
    "        year_path = os.path.join(base_path, str(year_num))\n",
    "        if not os.path.exists(year_path):\n",
    "            print(f\"Path {year_path} does not exist\")\n",
    "            continue\n",
    "\n",
    "        for week_num in range(1, 53):\n",
    "            week_path = os.path.join(year_path, f'week_{week_num}.csv')\n",
    "            if not os.path.exists(week_path):\n",
    "                print(f\"Path {week_path} does not exist\")\n",
    "                continue\n",
    "\n",
    "            # Read the CSV file and extract the numbers\n",
    "            with open(week_path, 'r') as file:\n",
    "                # Assuming the numbers are in the first column of the CSV file\n",
    "                numbers_list = [float(row[0]) for row in csv.reader(file)]\n",
    "\n",
    "            # Convert the list of numbers to a numpy array\n",
    "            numbers_array = np.array(numbers_list)\n",
    "\n",
    "            all_weeks.append(numbers_array)"
   ]
  },
  {
   "cell_type": "code",
   "execution_count": 3,
   "metadata": {},
   "outputs": [
    {
     "name": "stdout",
     "output_type": "stream",
     "text": [
      "364\n"
     ]
    }
   ],
   "source": [
    "get_all_satellite_data()\n",
    "print(len(all_weeks))"
   ]
  },
  {
   "cell_type": "code",
   "execution_count": 4,
   "metadata": {},
   "outputs": [
    {
     "name": "stdout",
     "output_type": "stream",
     "text": [
      "36\n"
     ]
    }
   ],
   "source": [
    "all_weeks[0]\n",
    "print(len(all_weeks[0]))"
   ]
  },
  {
   "cell_type": "code",
   "execution_count": 5,
   "metadata": {},
   "outputs": [],
   "source": [
    "# group by quarters\n",
    "quarterly_data = []\n",
    "\n",
    "curr = empty_array = np.empty(36)\n",
    "for i in range(0, len(all_weeks)):\n",
    "    curr = curr + all_weeks[i]\n",
    "\n",
    "    if (i + 1) % 13 == 0:\n",
    "        quarterly_data.append(curr)\n",
    "        curr = empty_array"
   ]
  },
  {
   "cell_type": "code",
   "execution_count": 6,
   "metadata": {},
   "outputs": [
    {
     "name": "stdout",
     "output_type": "stream",
     "text": [
      "28\n"
     ]
    }
   ],
   "source": [
    "print(len(quarterly_data))"
   ]
  },
  {
   "cell_type": "code",
   "execution_count": 24,
   "metadata": {},
   "outputs": [],
   "source": [
    "for i in range(len(quarterly_data)):\n",
    "    data = quarterly_data[i]\n",
    "    file_path = f'../data/prepared/quarterly-6-by-6/satellite-burn/test-group_{i + 1}.csv'\n",
    "    np.savetxt(file_path, data, delimiter='\\n', fmt='%.2f')"
   ]
  },
  {
   "cell_type": "code",
   "execution_count": null,
   "metadata": {},
   "outputs": [],
   "source": []
  }
 ],
 "metadata": {
  "kernelspec": {
   "display_name": "Python 3",
   "language": "python",
   "name": "python3"
  },
  "language_info": {
   "codemirror_mode": {
    "name": "ipython",
    "version": 3
   },
   "file_extension": ".py",
   "mimetype": "text/x-python",
   "name": "python",
   "nbconvert_exporter": "python",
   "pygments_lexer": "ipython3",
   "version": "3.10.8"
  }
 },
 "nbformat": 4,
 "nbformat_minor": 2
}
