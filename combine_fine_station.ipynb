{
 "cells": [
  {
   "cell_type": "code",
   "execution_count": 47,
   "metadata": {},
   "outputs": [],
   "source": [
    "import pandas as pd"
   ]
  },
  {
   "cell_type": "code",
   "execution_count": 83,
   "metadata": {},
   "outputs": [],
   "source": [
    "df = pd.read_csv('./data/final-weather/2017/week-1/fine-area-1.csv')"
   ]
  },
  {
   "cell_type": "code",
   "execution_count": 84,
   "metadata": {},
   "outputs": [
    {
     "name": "stdout",
     "output_type": "stream",
     "text": [
      "    ONE_DAY_PRECIPITATION   ONE_DAY_RAIN   MIN_TEMP   ONE_DAY_SNOW   \n",
      "0                     0.0            0.0        2.0            0.0  \\\n",
      "1                     0.0            0.0        2.5            0.0   \n",
      "2                     1.0            1.0        2.0            0.0   \n",
      "3                     2.2            2.2        4.5            0.0   \n",
      "4                     0.4            0.4        5.5            0.0   \n",
      "5                    14.4           14.4        5.5            0.0   \n",
      "6                     0.4            0.4        4.5            0.0   \n",
      "7                    43.4           43.4        3.0            0.0   \n",
      "8                     0.6            0.6        5.0            0.0   \n",
      "9                     0.0            0.0        4.0            0.0   \n",
      "10                    0.0            0.0        1.5            0.0   \n",
      "11                    0.0            0.0        1.0            0.0   \n",
      "12                    0.0            0.0      -28.5            0.0   \n",
      "13                    0.8            0.8        1.0            0.0   \n",
      "14                    0.0            0.0        3.0            0.0   \n",
      "15                    0.0            0.0        3.0            0.0   \n",
      "16                    0.0            0.0        2.0            0.0   \n",
      "17                    0.0            0.0        4.0            0.0   \n",
      "\n",
      "                    time   SNOW_ON_THE_GROUND   MAX_TEMP  \n",
      "0    2013-01-01 00:00:00                  0.0        4.5  \n",
      "1    2013-01-02 00:00:00                  0.0        5.5  \n",
      "2    2013-01-03 00:00:00                  0.0        5.0  \n",
      "3    2013-01-04 00:00:00                  0.0        6.5  \n",
      "4    2013-01-05 00:00:00                  0.0        7.0  \n",
      "5    2013-01-06 00:00:00                  0.0        7.0  \n",
      "6    2013-01-07 00:00:00                  0.0        6.5  \n",
      "7    2013-01-08 00:00:00                  0.0        8.5  \n",
      "8    2013-01-09 00:00:00                  0.0        8.0  \n",
      "9    2013-01-10 00:00:00                  0.0        5.5  \n",
      "10   2013-01-11 00:00:00                  0.0        3.5  \n",
      "11   2013-01-12 00:00:00                  0.0        3.0  \n",
      "12   2013-01-13 00:00:00                  0.0        3.0  \n",
      "13   2013-01-14 00:00:00                  0.0        3.5  \n",
      "14   2013-01-15 00:00:00                  0.0        4.5  \n",
      "15   2013-01-16 00:00:00                  0.0        4.0  \n",
      "16   2013-01-17 00:00:00                  0.0        5.0  \n",
      "17   2013-01-18 00:00:00                  0.0        5.0  \n"
     ]
    }
   ],
   "source": [
    "print(df)"
   ]
  },
  {
   "cell_type": "code",
   "execution_count": 85,
   "metadata": {},
   "outputs": [],
   "source": [
    "column_to_exclude = ' time'\n",
    "if column_to_exclude in df.columns:\n",
    "    df = df.drop(column_to_exclude, axis=1)\n",
    "else:\n",
    "    print(f\"Column '{column_to_exclude}' does not exist in the dataframe.\")\n"
   ]
  },
  {
   "cell_type": "code",
   "execution_count": 86,
   "metadata": {},
   "outputs": [
    {
     "name": "stdout",
     "output_type": "stream",
     "text": [
      "Index(['ONE_DAY_PRECIPITATION', ' ONE_DAY_RAIN', ' MIN_TEMP', ' ONE_DAY_SNOW',\n",
      "       ' SNOW_ON_THE_GROUND', ' MAX_TEMP'],\n",
      "      dtype='object')\n"
     ]
    }
   ],
   "source": [
    "print(df.columns)\n"
   ]
  },
  {
   "cell_type": "code",
   "execution_count": 87,
   "metadata": {},
   "outputs": [
    {
     "name": "stdout",
     "output_type": "stream",
     "text": [
      "    ONE_DAY_PRECIPITATION   ONE_DAY_RAIN   MIN_TEMP   ONE_DAY_SNOW   \n",
      "0                     0.0            0.0        2.0            0.0  \\\n",
      "1                     0.0            0.0        2.5            0.0   \n",
      "2                     1.0            1.0        2.0            0.0   \n",
      "3                     2.2            2.2        4.5            0.0   \n",
      "4                     0.4            0.4        5.5            0.0   \n",
      "5                    14.4           14.4        5.5            0.0   \n",
      "6                     0.4            0.4        4.5            0.0   \n",
      "7                    43.4           43.4        3.0            0.0   \n",
      "8                     0.6            0.6        5.0            0.0   \n",
      "9                     0.0            0.0        4.0            0.0   \n",
      "10                    0.0            0.0        1.5            0.0   \n",
      "11                    0.0            0.0        1.0            0.0   \n",
      "12                    0.0            0.0      -28.5            0.0   \n",
      "13                    0.8            0.8        1.0            0.0   \n",
      "14                    0.0            0.0        3.0            0.0   \n",
      "15                    0.0            0.0        3.0            0.0   \n",
      "16                    0.0            0.0        2.0            0.0   \n",
      "17                    0.0            0.0        4.0            0.0   \n",
      "\n",
      "     SNOW_ON_THE_GROUND   MAX_TEMP  \n",
      "0                   0.0        4.5  \n",
      "1                   0.0        5.5  \n",
      "2                   0.0        5.0  \n",
      "3                   0.0        6.5  \n",
      "4                   0.0        7.0  \n",
      "5                   0.0        7.0  \n",
      "6                   0.0        6.5  \n",
      "7                   0.0        8.5  \n",
      "8                   0.0        8.0  \n",
      "9                   0.0        5.5  \n",
      "10                  0.0        3.5  \n",
      "11                  0.0        3.0  \n",
      "12                  0.0        3.0  \n",
      "13                  0.0        3.5  \n",
      "14                  0.0        4.5  \n",
      "15                  0.0        4.0  \n",
      "16                  0.0        5.0  \n",
      "17                  0.0        5.0  \n"
     ]
    }
   ],
   "source": [
    "# exclude time column\n",
    "print(df.loc[:, df.columns != ' time'])"
   ]
  },
  {
   "cell_type": "code",
   "execution_count": 88,
   "metadata": {},
   "outputs": [
    {
     "name": "stdout",
     "output_type": "stream",
     "text": [
      "ONE_DAY_PRECIPITATION    3.511111\n",
      " ONE_DAY_RAIN            3.511111\n",
      " MIN_TEMP                1.416667\n",
      " ONE_DAY_SNOW            0.000000\n",
      " SNOW_ON_THE_GROUND      0.000000\n",
      " MAX_TEMP                5.305556\n",
      "dtype: float64\n"
     ]
    }
   ],
   "source": [
    "col_means = df.mean(axis=0)\n",
    "\n",
    "print(col_means)"
   ]
  },
  {
   "cell_type": "code",
   "execution_count": null,
   "metadata": {},
   "outputs": [],
   "source": []
  },
  {
   "cell_type": "code",
   "execution_count": null,
   "metadata": {},
   "outputs": [],
   "source": []
  }
 ],
 "metadata": {
  "kernelspec": {
   "display_name": "Python 3",
   "language": "python",
   "name": "python3"
  },
  "language_info": {
   "codemirror_mode": {
    "name": "ipython",
    "version": 3
   },
   "file_extension": ".py",
   "mimetype": "text/x-python",
   "name": "python",
   "nbconvert_exporter": "python",
   "pygments_lexer": "ipython3",
   "version": "3.11.3"
  }
 },
 "nbformat": 4,
 "nbformat_minor": 2
}
